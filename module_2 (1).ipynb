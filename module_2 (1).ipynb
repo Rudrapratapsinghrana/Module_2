{
  "nbformat": 4,
  "nbformat_minor": 0,
  "metadata": {
    "colab": {
      "provenance": []
    },
    "kernelspec": {
      "name": "python3",
      "display_name": "Python 3"
    },
    "language_info": {
      "name": "python"
    }
  },
  "cells": [
    {
      "cell_type": "markdown",
      "source": [
        "# PYTHON BASICS\n",
        "Q1=> What is Python, and why is it popular?\n",
        "\n",
        "  =>python is a versatile, easy-to-learn programming language known for its simplicity, readability, and wide range of applications.\n",
        "\n",
        "Q2=>What is an interpreter in Python?\n",
        "\n",
        "  =>Python executes code line-by-line, converting it into machine-readable instructions.\n",
        "\n",
        "Q3=>What are pre-defined keywords in Python?\n",
        "\n",
        " =>Pre-defined keywords in Python are reserved words with special meanings that define the language's syntax and cannot be used as identifiers.\n",
        "\n",
        "Q4=>Can keywords be used as variable names?\n",
        "\n",
        " =>no.\n",
        "\n",
        "Q5=> What is mutability in Python?\n",
        "\n",
        " =>mutability refers to ability to modify after creation .\n",
        "\n",
        "Q6=> 0 Why are lists mutable, but tuples are immutable?\n",
        "\n",
        " =>lsit are mutable becouse they allowe to modify there content whereas tuple are not to modified.\n",
        "\n",
        "Q7=>What is the difference between “==” and “is” operators in Python?\n",
        "\n",
        " => this '==' operation check the equality and 'is' operation check the identity\n",
        "\n",
        "Q8=>What are logical operators in Python?\n",
        "\n",
        " => they are used to get boolean values. and,not,or are example of logical operators.\n",
        "\n",
        "Q9=>What is type casting in Python.\n",
        "\n",
        "=>it is a process where we change the data type in another data type .\n",
        "\n",
        "Q10=>What is the difference between implicit and explicit type casting?\n",
        "\n",
        " => implicit automatically converts data types while explicit converts manully\n",
        "\n",
        " Q11=>What is the purpose of conditional statements in Python?\n",
        "\n",
        "  =>Conditional statements in Python are used to execute specific blocks of code based on whether a condition is true or false.\n",
        "\n",
        "Q12=>How does the elif statement work?\n",
        "\n",
        " =>The elif statement in Python is used to check additional conditions if the previous if condition is false, allowing multiple conditions to be tested in sequence.\n",
        "\n",
        "Q13=>What is the difference between for and while loops?\n",
        "\n",
        " =>What is the difference between for and while loops.\n",
        "\n",
        "Q14=> Describe a scenario where a while loop is more suitable than a for loop?\n",
        "\n",
        " =>A while loop is more suitable when the number of iterations is unknown and depends on a condition that changes during execution.\n",
        "\n",
        "\n",
        "\n",
        "\n",
        "\n",
        "\n"
      ],
      "metadata": {
        "id": "BjNhHP3SUXH7"
      }
    },
    {
      "cell_type": "code",
      "execution_count": null,
      "metadata": {
        "id": "wbqSaz6QUG9c"
      },
      "outputs": [],
      "source": [
        "#  Q1=> Write a Python program to print \"Hello, World!\n",
        "'''\n",
        "print(\"hello world\")\n",
        "'''"
      ]
    },
    {
      "cell_type": "code",
      "source": [
        "# Q2=> Write a Python program that displays your name and age\n",
        "'''\n",
        "name = \"rudra\"\n",
        "age= 17\n",
        "print(name,age)\n",
        "'''"
      ],
      "metadata": {
        "colab": {
          "base_uri": "https://localhost:8080/"
        },
        "id": "xuEMUpdL-b9F",
        "outputId": "84f4ea3b-3f87-4271-8bbc-cf660991035e"
      },
      "execution_count": 1,
      "outputs": [
        {
          "output_type": "stream",
          "name": "stdout",
          "text": [
            "rudra 17\n"
          ]
        }
      ]
    },
    {
      "cell_type": "code",
      "source": [
        "# Q3=>  Write code to print all the pre-defined keywords in Python using the keyword library\n",
        "\n",
        "import keyword\n",
        "\n",
        "print(keyword.kwlist)"
      ],
      "metadata": {
        "colab": {
          "base_uri": "https://localhost:8080/"
        },
        "id": "mjOdalZc-fGh",
        "outputId": "fbf59234-11f8-48a1-d90d-45f6e3d1bd3e"
      },
      "execution_count": 4,
      "outputs": [
        {
          "output_type": "stream",
          "name": "stdout",
          "text": [
            "['False', 'None', 'True', 'and', 'as', 'assert', 'async', 'await', 'break', 'class', 'continue', 'def', 'del', 'elif', 'else', 'except', 'finally', 'for', 'from', 'global', 'if', 'import', 'in', 'is', 'lambda', 'nonlocal', 'not', 'or', 'pass', 'raise', 'return', 'try', 'while', 'with', 'yield']\n"
          ]
        }
      ]
    },
    {
      "cell_type": "code",
      "source": [
        "\n",
        "\n",
        "# Q4=> Write a program that checks if a given word is a Python keyword\n",
        "'''\n",
        "import keyword\n",
        "\n",
        "word=\"while\"\n",
        "\n",
        "if(word in keyword.kwlist):\n",
        "   print(\"yes, it is\")\n",
        "else:\n",
        "    print(\"no,it is not\")\n",
        "'''"
      ],
      "metadata": {
        "colab": {
          "base_uri": "https://localhost:8080/"
        },
        "id": "SgOLWdio-g4N",
        "outputId": "cb0dd1dc-9bfc-4d46-bf7e-e7c8fbce9c68"
      },
      "execution_count": 6,
      "outputs": [
        {
          "output_type": "stream",
          "name": "stdout",
          "text": [
            "yes, it is\n"
          ]
        }
      ]
    },
    {
      "cell_type": "code",
      "source": [
        "\n",
        "# Q5=> Create a list and tuple in Python, and demonstrate how attempting to change an element works differently for each\n",
        "'''\n",
        "a=[1,2,3]\n",
        "b=(1,2,3)\n",
        "a.append(5)\n",
        "b.append(5)\n",
        "'''"
      ],
      "metadata": {
        "colab": {
          "base_uri": "https://localhost:8080/",
          "height": 176
        },
        "id": "pzMSeMHq-g0_",
        "outputId": "dc846d16-589d-4ad7-e267-b63c7a5d2f5d"
      },
      "execution_count": 7,
      "outputs": [
        {
          "output_type": "error",
          "ename": "AttributeError",
          "evalue": "'tuple' object has no attribute 'append'",
          "traceback": [
            "\u001b[0;31m---------------------------------------------------------------------------\u001b[0m",
            "\u001b[0;31mAttributeError\u001b[0m                            Traceback (most recent call last)",
            "\u001b[0;32m<ipython-input-7-000678a1625a>\u001b[0m in \u001b[0;36m<cell line: 5>\u001b[0;34m()\u001b[0m\n\u001b[1;32m      3\u001b[0m \u001b[0mb\u001b[0m\u001b[0;34m=\u001b[0m\u001b[0;34m(\u001b[0m\u001b[0;36m1\u001b[0m\u001b[0;34m,\u001b[0m\u001b[0;36m2\u001b[0m\u001b[0;34m,\u001b[0m\u001b[0;36m3\u001b[0m\u001b[0;34m)\u001b[0m\u001b[0;34m\u001b[0m\u001b[0;34m\u001b[0m\u001b[0m\n\u001b[1;32m      4\u001b[0m \u001b[0ma\u001b[0m\u001b[0;34m.\u001b[0m\u001b[0mappend\u001b[0m\u001b[0;34m(\u001b[0m\u001b[0;36m5\u001b[0m\u001b[0;34m)\u001b[0m\u001b[0;34m\u001b[0m\u001b[0;34m\u001b[0m\u001b[0m\n\u001b[0;32m----> 5\u001b[0;31m \u001b[0mb\u001b[0m\u001b[0;34m.\u001b[0m\u001b[0mappend\u001b[0m\u001b[0;34m(\u001b[0m\u001b[0;36m5\u001b[0m\u001b[0;34m)\u001b[0m\u001b[0;34m\u001b[0m\u001b[0;34m\u001b[0m\u001b[0m\n\u001b[0m",
            "\u001b[0;31mAttributeError\u001b[0m: 'tuple' object has no attribute 'append'"
          ]
        }
      ]
    },
    {
      "cell_type": "code",
      "source": [
        "\n",
        "#  Q6=> Write a function to demonstrate the behavior of mutable and immutable arguments\n",
        "\n",
        "\n",
        "\n"
      ],
      "metadata": {
        "id": "7MykwEps-gxS"
      },
      "execution_count": null,
      "outputs": []
    },
    {
      "cell_type": "code",
      "source": [
        "\n",
        "# Q7=> Write a function to demonstrate the behavior of mutable and immutable arguments\n",
        "\n",
        "\n"
      ],
      "metadata": {
        "id": "RDDyxF-I-gt0"
      },
      "execution_count": null,
      "outputs": []
    },
    {
      "cell_type": "code",
      "source": [
        "\n",
        "#  Q8=> Write a program to demonstrate the use of logical operators\n",
        "'''\n",
        "age=10\n",
        "if(age<12 and age>18):\n",
        "  print(\"u are ok\")\n",
        "else:\n",
        "  print(\"u are not ok\")\n",
        "'''"
      ],
      "metadata": {
        "colab": {
          "base_uri": "https://localhost:8080/"
        },
        "id": "OVYmoeI5-gp6",
        "outputId": "13fb84c5-876d-472f-dacf-5c6954e31e5b"
      },
      "execution_count": 9,
      "outputs": [
        {
          "output_type": "stream",
          "name": "stdout",
          "text": [
            "u are not ok\n"
          ]
        }
      ]
    },
    {
      "cell_type": "code",
      "source": [
        "\n",
        "\n",
        "# Q9=> Write a Python program to convert user input from string to integer, float, and boolean types\n",
        "'''\n",
        "a=\"10\"\n",
        "b=int(a)\n",
        "d=float(a)\n",
        "c=bool(a)\n",
        "print(b,c)\n",
        "'''\n"
      ],
      "metadata": {
        "colab": {
          "base_uri": "https://localhost:8080/"
        },
        "id": "13hXFuj7-gmd",
        "outputId": "bd3ef6e0-509b-477c-8e98-dfaf56915ea7"
      },
      "execution_count": 11,
      "outputs": [
        {
          "output_type": "stream",
          "name": "stdout",
          "text": [
            "10 True\n"
          ]
        }
      ]
    },
    {
      "cell_type": "code",
      "source": [
        "\n",
        "#  Q10=> Write code to demonstrate type casting with list elements\n",
        "'''\n",
        "a=[1,2,3]\n",
        "b=tuple(a)\n",
        "print(b)\n",
        "'''"
      ],
      "metadata": {
        "id": "unbXJVXu-gjI"
      },
      "execution_count": null,
      "outputs": []
    },
    {
      "cell_type": "code",
      "source": [
        "\n",
        "\n",
        "# Q11=> Write a program that checks if a number is positive, negative, or zero0\n",
        "'''\n",
        "a=10\n",
        "b=-1\n",
        "\n",
        "if(a<0 and b<0):\n",
        "  print(\"negative\")\n",
        "elif(a>0 and b>0):\n",
        "  print(\"positive\")\n",
        "else:\n",
        "  print(\"zero\")\n",
        "'''\n",
        ""
      ],
      "metadata": {
        "colab": {
          "base_uri": "https://localhost:8080/"
        },
        "id": "xwM2dc4C-gWl",
        "outputId": "60944165-337f-4e73-a8c3-f7fa889fd528"
      },
      "execution_count": 2,
      "outputs": [
        {
          "output_type": "stream",
          "name": "stdout",
          "text": [
            "zero\n"
          ]
        }
      ]
    },
    {
      "cell_type": "code",
      "source": [
        "\n",
        "# Q12=> Write a for loop to print numbers from 1 to 100\n",
        "'''\n",
        "for i in range(1,101):\n",
        "  print(i)\n",
        "  '''\n"
      ],
      "metadata": {
        "colab": {
          "base_uri": "https://localhost:8080/"
        },
        "collapsed": true,
        "id": "viWKhawb_WLo",
        "outputId": "a9668b16-fdd8-42ad-ed6a-244a8bd1a119"
      },
      "execution_count": 3,
      "outputs": [
        {
          "output_type": "stream",
          "name": "stdout",
          "text": [
            "1\n",
            "2\n",
            "3\n",
            "4\n",
            "5\n",
            "6\n",
            "7\n",
            "8\n",
            "9\n",
            "10\n",
            "11\n",
            "12\n",
            "13\n",
            "14\n",
            "15\n",
            "16\n",
            "17\n",
            "18\n",
            "19\n",
            "20\n",
            "21\n",
            "22\n",
            "23\n",
            "24\n",
            "25\n",
            "26\n",
            "27\n",
            "28\n",
            "29\n",
            "30\n",
            "31\n",
            "32\n",
            "33\n",
            "34\n",
            "35\n",
            "36\n",
            "37\n",
            "38\n",
            "39\n",
            "40\n",
            "41\n",
            "42\n",
            "43\n",
            "44\n",
            "45\n",
            "46\n",
            "47\n",
            "48\n",
            "49\n",
            "50\n",
            "51\n",
            "52\n",
            "53\n",
            "54\n",
            "55\n",
            "56\n",
            "57\n",
            "58\n",
            "59\n",
            "60\n",
            "61\n",
            "62\n",
            "63\n",
            "64\n",
            "65\n",
            "66\n",
            "67\n",
            "68\n",
            "69\n",
            "70\n",
            "71\n",
            "72\n",
            "73\n",
            "74\n",
            "75\n",
            "76\n",
            "77\n",
            "78\n",
            "79\n",
            "80\n",
            "81\n",
            "82\n",
            "83\n",
            "84\n",
            "85\n",
            "86\n",
            "87\n",
            "88\n",
            "89\n",
            "90\n",
            "91\n",
            "92\n",
            "93\n",
            "94\n",
            "95\n",
            "96\n",
            "97\n",
            "98\n",
            "99\n",
            "100\n"
          ]
        }
      ]
    },
    {
      "cell_type": "code",
      "source": [
        "\n",
        "# Q13=> Write a Python program to find the sum of all even numbers between 1 and 500\n",
        "\n",
        "s = 0\n",
        "\n",
        "for num in range(1, 501):\n",
        "    if num % 2 == 0:\n",
        "        s += num\n",
        "\n",
        "print(s)\n"
      ],
      "metadata": {
        "colab": {
          "base_uri": "https://localhost:8080/"
        },
        "id": "Z3rmcWBw_V-C",
        "outputId": "8c359b50-e326-4c4c-892c-dcdf30ae9143"
      },
      "execution_count": 11,
      "outputs": [
        {
          "output_type": "stream",
          "name": "stdout",
          "text": [
            "62750\n"
          ]
        }
      ]
    },
    {
      "cell_type": "code",
      "source": [
        "\n",
        "# Q14=> Write a program to reverse a string using a while loop\n",
        "\n",
        "a=\"rudra\"\n",
        "i=len(a)-1\n",
        "while(i>=0):\n",
        "  print(a[i])\n",
        "  i-=1\n",
        "\n",
        "\n"
      ],
      "metadata": {
        "colab": {
          "base_uri": "https://localhost:8080/"
        },
        "id": "CXg7NWKO_VwL",
        "outputId": "ef8a89ea-d31d-4f98-d036-878e999f2e4d"
      },
      "execution_count": 13,
      "outputs": [
        {
          "output_type": "stream",
          "name": "stdout",
          "text": [
            "a\n",
            "r\n",
            "d\n",
            "u\n",
            "r\n"
          ]
        }
      ]
    },
    {
      "cell_type": "code",
      "source": [
        "\n",
        "# Q15=> Write a Python program to calculate the factorial of a number provided by the user using a while loop.\n",
        "a=int(input(\"enter the no.\"))\n",
        "fact=1\n",
        "while(a>0):\n",
        "  fact*=a\n",
        "  a-=1\n",
        "print(fact)"
      ],
      "metadata": {
        "id": "WemfJ4OK_Vcv"
      },
      "execution_count": null,
      "outputs": []
    },
    {
      "cell_type": "code",
      "source": [],
      "metadata": {
        "id": "zOTEReJ8_VGH"
      },
      "execution_count": null,
      "outputs": []
    }
  ]
}